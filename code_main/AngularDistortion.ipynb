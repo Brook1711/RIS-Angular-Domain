{
 "cells": [
  {
   "cell_type": "code",
   "execution_count": 1,
   "metadata": {},
   "outputs": [
    {
     "name": "stdout",
     "output_type": "stream",
     "text": [
      "[-0.40766141 -0.31373979 -0.15443927 -0.10323253  0.03881673]\n",
      "[-0.08080549  0.1852195  -0.29554775  0.37811744 -0.47261241]\n",
      "[ 1.13376944 -1.09989127 -0.17242821 -0.87785842  0.04221375]\n"
     ]
    }
   ],
   "source": [
    "import numpy as np\n",
    "import matplotlib.pyplot as plt\n",
    "from scipy import io \n",
    "np.random.seed(1)\n",
    "M = 64\n",
    "A = 16\n",
    "L = 5\n",
    "J_k = 4\n",
    "L_index = [5,13,26,50]\n",
    "\n",
    "Phi = np.random.uniform(-0.5,0.5,L)\n",
    "Omega = np.random.uniform(-0.5,0.5,L)\n",
    "Varphi = np.random.uniform(-0.5,0.5,L)\n",
    "Psi = np.random.uniform(-0.5,0.5,L)\n",
    "\n",
    "Alpha = np.random.normal(size=L)\n",
    "Beta = np.random.normal(size=L)\n",
    "print(Omega)\n",
    "print(Varphi)\n",
    "print(Alpha)\n"
   ]
  },
  {
   "cell_type": "code",
   "execution_count": 2,
   "metadata": {},
   "outputs": [],
   "source": [
    "def array_response(M, x):\n",
    "    m = np.linspace(0, M-1, M)\n",
    "    return np.exp(1j*2*np.pi*m*x)\n"
   ]
  },
  {
   "cell_type": "code",
   "execution_count": 3,
   "metadata": {},
   "outputs": [],
   "source": [
    "def FFT(input):\n",
    "    return np.abs(np.fft.fft(\n",
    "            np.reshape(np.array(input), (1,-1))[0]\n",
    "    ))"
   ]
  },
  {
   "cell_type": "code",
   "execution_count": 4,
   "metadata": {},
   "outputs": [],
   "source": [
    "A_N  =[array_response(M, phi) for phi in Phi]\n",
    "A_N = np.mat(np.vstack(A_N)).T\n",
    "A_N_comprehensive = A_N * np.reshape(Alpha, (-1,1))\n",
    "\n",
    "\n",
    "A_M  =[array_response(M, omega) for omega in Omega]\n",
    "A_M = np.mat(np.vstack(A_M)).T\n",
    "np.shape(A_M)\n",
    "A_M_comprehensive = A_M * np.reshape(Alpha, (-1,1))\n",
    "# A_M_comprehensive\n",
    "B_k = np.mat(np.diag(Alpha))\n",
    "s_k = np.mat([1 for i in range(A)]).T\n",
    "A_M_k  =[array_response(M, varphi) for varphi in Varphi]\n",
    "A_M_k = np.mat(np.vstack(A_M_k)).T\n",
    "A_A_k  =[array_response(A, psi) for psi in Psi]\n",
    "A_A_k = np.mat(np.vstack(A_A_k)).T\n",
    "\n",
    "Delta = A_M.H * A_M_k * B_k * A_A_k.H * s_k\n",
    "Delta_angle = np.angle(Delta)\n",
    "\n",
    "distorted = A* Delta/np.max(A* Delta)\n",
    "real = A * np.mat(np.ones((L,1)))\n",
    "real = real / np.max(real)\n",
    "# ratio_abs_storage = []\n",
    "# ratio_real_storage = []\n",
    "# ratio_imag_storage = []\n",
    "# ratio_angle_storage = []\n",
    "\n",
    "# for l_0 in range(L-1):\n",
    "#     for l_1 in range(L-1 - l_0):\n",
    "#         ratio_abs_storage.append(np.abs(Delta)[l_0          ,0]/ np.abs(Delta)[l_1+l_0 +1   ,0])\n",
    "#         ratio_abs_storage.append(np.abs(Delta)[l_1+l_0 +1   ,0]/ np.abs(Delta)[l_0          ,0])\n",
    "#         ratio_real_storage.append(np.real(Delta)[l_0          ,0]/ np.real(Delta)[l_1+l_0 +1   ,0])\n",
    "#         ratio_real_storage.append(np.real(Delta)[l_1+l_0 +1   ,0]/ np.real(Delta)[l_0          ,0])\n",
    "#         ratio_imag_storage.append(np.imag(Delta)[l_0          ,0]/ np.imag(Delta)[l_1+l_0 +1   ,0])\n",
    "#         ratio_imag_storage.append(np.imag(Delta)[l_1+l_0 +1   ,0]/ np.imag(Delta)[l_0          ,0])\n",
    "#         ratio_angle_storage.append(np.angle(Delta)[l_0          ,0]/ np.angle(Delta)[l_1+l_0 +1   ,0])\n",
    "#         ratio_angle_storage.append(np.angle(Delta)[l_1+l_0 +1   ,0]/ np.angle(Delta)[l_0          ,0])\n",
    "distortion_storage = []\n",
    "for l in range(L):\n",
    "    distortion_storage.append(\n",
    "        np.power(\n",
    "            np.abs(distorted[l])[0,0] / np.abs(real[l])[0,0], 2\n",
    "            )\n",
    "                              )\n"
   ]
  },
  {
   "cell_type": "code",
   "execution_count": 5,
   "metadata": {},
   "outputs": [
    {
     "data": {
      "text/plain": [
       "[3.327489083114367e-05,\n",
       " 0.00448310676033924,\n",
       " 0.07322180252912039,\n",
       " 1.0,\n",
       " 0.09590814903511787]"
      ]
     },
     "execution_count": 5,
     "metadata": {},
     "output_type": "execute_result"
    }
   ],
   "source": [
    "distortion_storage"
   ]
  },
  {
   "cell_type": "code",
   "execution_count": 8,
   "metadata": {},
   "outputs": [
    {
     "data": {
      "image/png": "[encoded data removed]",
      "text/plain": [
       "<Figure size 432x288 with 1 Axes>"
      ]
     },
     "metadata": {
      "needs_background": "light"
     },
     "output_type": "display_data"
    }
   ],
   "source": [
    "FFT_origin = FFT(A_N_comprehensive)\n",
    "FFT_origin = FFT_origin/np.max(FFT_origin)\n",
    "plt.plot(FFT_origin)\n",
    "\n",
    "Y = A_N * A * A_M.H * A_M_k * B_k * A_A_k.H * s_k\n",
    "FFT_Y = FFT(Y)\n",
    "FFT_Y = FFT_Y/np.max(FFT_Y)\n",
    "plt.plot(FFT_Y)\n",
    "io.savemat('FFT_plot.mat', {\n",
    "    'origin':       FFT_origin,\n",
    "    'distorted':    FFT_Y\n",
    "})"
   ]
  },
  {
   "cell_type": "code",
   "execution_count": 7,
   "metadata": {},
   "outputs": [],
   "source": [
    "np.random.seed(1)\n",
    "def generate_pdf(iseed = 0):\n",
    "    Phi = np.random.uniform(-0.5,0.5,L)\n",
    "    Omega = np.random.uniform(-0.5,0.5,L)\n",
    "    Varphi = np.random.uniform(-0.5,0.5,L)\n",
    "    Psi = np.random.uniform(-0.5,0.5,L)\n",
    "\n",
    "    Alpha = np.random.normal(size=L)\n",
    "    Beta = np.random.normal(size=L)\n",
    "    A_N  =[array_response(M, phi) for phi in Phi]\n",
    "    A_N = np.mat(np.vstack(A_N)).T\n",
    "    A_N_comprehensive = A_N * np.reshape(Alpha, (-1,1))\n",
    "\n",
    "\n",
    "    A_M  =[array_response(M, omega) for omega in Omega]\n",
    "    A_M = np.mat(np.vstack(A_M)).T\n",
    "    np.shape(A_M)\n",
    "    A_M_comprehensive = A_M * np.reshape(Alpha, (-1,1))\n",
    "    # A_M_comprehensive\n",
    "    B_k = np.mat(np.diag(Alpha))\n",
    "    s_k = np.mat([1 for i in range(A)]).T\n",
    "    A_M_k  =[array_response(M, varphi) for varphi in Varphi]\n",
    "    A_M_k = np.mat(np.vstack(A_M_k)).T\n",
    "    A_A_k  =[array_response(A, psi) for psi in Psi]\n",
    "    A_A_k = np.mat(np.vstack(A_A_k)).T\n",
    "\n",
    "    Delta = A_M.H * A_M_k * B_k * A_A_k.H * s_k\n",
    "    Delta_angle = np.angle(Delta)\n",
    "\n",
    "    distorted = np.reshape(np.array(np.abs(A* Delta/np.max(A* Delta))), (1,-1))[0]\n",
    "    real = A * np.mat(np.ones((L,1)))\n",
    "    real = np.reshape(np.array(np.abs(real / np.max(real))), (1,-1))[0]\n",
    "    \n",
    "    distorted_amp = np.linalg.norm(distorted, ord=2)\n",
    "    real_amp = np.linalg.norm(real, ord=2)\n",
    "    real = real * distorted_amp / real_amp\n",
    "\n",
    "    distortion_storage = []\n",
    "    for l in range(L):\n",
    "        distortion_storage.append(\n",
    "            np.power(\n",
    "                np.abs(distorted[l]) / np.abs(real[l]), 2\n",
    "                )\n",
    "                                )\n",
    "    return distortion_storage\n",
    "\n",
    "distortion_storage_all = []\n",
    "for seed in range(1000):\n",
    "    distortion_storage_all += generate_pdf(seed)\n",
    "# distortion_storage_all"
   ]
  },
  {
   "cell_type": "code",
   "execution_count": null,
   "metadata": {},
   "outputs": [
    {
     "data": {
      "image/png": "[encoded data removed]",
      "text/plain": [
       "<Figure size 432x288 with 1 Axes>"
      ]
     },
     "metadata": {
      "needs_background": "light"
     },
     "output_type": "display_data"
    }
   ],
   "source": [
    "from scipy.interpolate import UnivariateSpline\n",
    "\n",
    "N = 1000 * L\n",
    "n = N//1\n",
    "# s = np.random.normal(size=N)                      # generate your data sample with N elements\n",
    "p, x = np.histogram(distortion_storage_all, bins=n) # bin it into n = N//10 bins\n",
    "x = x[:-1] + (x[1] - x[0])/2                        # convert bin edges to centers\n",
    "f = UnivariateSpline(x, p, s=n)\n",
    "fig = plt.figure(1)\n",
    "ax = plt.axes()\n",
    "plt.plot(x, f(x) / N)\n",
    "ax.set_xscale('log')\n",
    "plt.show()\n"
   ]
  },
  {
   "cell_type": "markdown",
   "metadata": {},
   "source": []
  },
  {
   "cell_type": "code",
   "execution_count": null,
   "metadata": {},
   "outputs": [],
   "source": []
  }
 ],
 "metadata": {
  "interpreter": {
   "hash": "e813a8e949848b3aa18c5346927190ee5a6ba3e705764f8dfdb21052230b0445"
  },
  "kernelspec": {
   "display_name": "Python 3.9.12 ('base')",
   "language": "python",
   "name": "python3"
  },
  "language_info": {
   "codemirror_mode": {
    "name": "ipython",
    "version": 3
   },
   "file_extension": ".py",
   "mimetype": "text/x-python",
   "name": "python",
   "nbconvert_exporter": "python",
   "pygments_lexer": "ipython3",
   "version": "3.9.12"
  },
  "orig_nbformat": 4
 },
 "nbformat": 4,
 "nbformat_minor": 2
}
