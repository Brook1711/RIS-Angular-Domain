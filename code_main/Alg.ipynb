{
 "cells": [
  {
   "cell_type": "code",
   "execution_count": 1,
   "metadata": {},
   "outputs": [],
   "source": [
    "import numpy as np\n",
    "import cmath\n",
    "import matplotlib.pyplot as plt"
   ]
  },
  {
   "cell_type": "markdown",
   "metadata": {},
   "source": [
    "$\\varphi_{k,j} = \\frac{d}{\\lambda}\\operatorname{cos}(\\varphi_{\\theta}) \\in [-0.5, 0.5)$\n",
    "\n",
    "$$\n",
    "\\mathbf{a}_{X}(x)=\\left[1, e^{-\\mathrm{i} 2 \\pi x}, \\ldots, e^{-\\mathrm{i} 2 \\pi(X-1) x}\\right]^{\\mathrm{T}}\n",
    "$$\n",
    "\n",
    "$\\Delta \\varphi_{k,j}=\\varphi_{k,j} -\\varphi_{k,j}^g \\in [0,\\frac{1}{M})$"
   ]
  },
  {
   "cell_type": "markdown",
   "metadata": {},
   "source": [
    "$${\\boldsymbol p}_{l,k} = {\\mathbf \\Phi}^H {\\mathbf V}({\\omega_l}){\\mathbf D}_M({\\Delta}{\\boldsymbol \\varphi}_k) {\\boldsymbol x}_k\n",
    "+ {\\mathbf N}_l ,\\forall l \\in \\{1,\\dots,L\\}$$"
   ]
  },
  {
   "cell_type": "markdown",
   "metadata": {},
   "source": [
    "${\\boldsymbol x}_k \\in {\\mathbb R}^{M\\times 1}$  ${\\boldsymbol x}_{k,m} \\in \\{ 0,1\\}$\n"
   ]
  },
  {
   "cell_type": "code",
   "execution_count": 30,
   "metadata": {},
   "outputs": [
    {
     "data": {
      "text/plain": [
       "<matplotlib.legend.Legend at 0x127c2d160>"
      ]
     },
     "execution_count": 30,
     "metadata": {},
     "output_type": "execute_result"
    },
    {
     "data": {
      "image/png": "[encoded data removed]",
      "text/plain": [
       "<Figure size 432x288 with 1 Axes>"
      ]
     },
     "metadata": {
      "needs_background": "light"
     },
     "output_type": "display_data"
    }
   ],
   "source": [
    "## generate channel support\n",
    "K=4\n",
    "np.random.seed(6)\n",
    "def common_channel_support(p01 = 0.1, p10=0.3, M= 64):\n",
    "    p0 = p10/(p10+p01)\n",
    "    p1 = 1-p0\n",
    "\n",
    "    # generate Markov chain\n",
    "    tmp_support = np.array([0.0 for m in range(M)])\n",
    "    if np.random.uniform(0,1,1)[0] < p0:\n",
    "        tmp_support[0] = 0\n",
    "    for i in range(M - 1):\n",
    "        if tmp_support[i] == 0:\n",
    "            if np.random.uniform(0,1,2)[0] < p01:\n",
    "                tmp_support[i+1] = 1\n",
    "            else:\n",
    "                tmp_support[i+1] = 0\n",
    "        else:\n",
    "            if np.random.uniform(0,1,2)[1] < p10:\n",
    "                tmp_support[i+1] = 0\n",
    "            else:\n",
    "                tmp_support[i+1] = 1\n",
    "    return tmp_support\n",
    "p01 = 0.1 \n",
    "p10 = 0.3\n",
    "M = 64\n",
    "common_support_varphi = common_channel_support(p01, p10, M)\n",
    "plt.scatter(range(M), common_support_varphi)\n",
    "plt.plot(range(M), common_support_varphi)\n",
    "plt.legend(['common_support_varphi'])\n"
   ]
  },
  {
   "cell_type": "code",
   "execution_count": 34,
   "metadata": {},
   "outputs": [
    {
     "data": {
      "text/plain": [
       "[<matplotlib.lines.Line2D at 0x127dae340>]"
      ]
     },
     "execution_count": 34,
     "metadata": {},
     "output_type": "execute_result"
    },
    {
     "data": {
      "image/png": "[encoded data removed]",
      "text/plain": [
       "<Figure size 432x288 with 1 Axes>"
      ]
     },
     "metadata": {
      "needs_background": "light"
     },
     "output_type": "display_data"
    }
   ],
   "source": [
    "# generate individual AoAs\n",
    "def pdf_for_all_user(user_index, K = 4, M = 64, sigma = 6):\n",
    "    x = np.linspace(0,M-1,M)\n",
    "    mu = int(user_index*(M/K)+0.5*M/K)\n",
    "    return 1/(np.power(2*np.pi*np.power(sigma,2), 0.5)) * np.exp(-0.5 * np.power((x-mu)/np.power(sigma,2),2))\n",
    "\n",
    "plt.plot(range(M), pdf_for_all_user(0,K,M,sigma=3))"
   ]
  },
  {
   "cell_type": "markdown",
   "metadata": {},
   "source": [
    "${\\mathbf D}_M(\\Delta {\\boldsymbol \\varphi})= [D_M(\\Delta \\varphi_1),\\dots,D_M(\\Delta \\varphi_M)] \\in {\\mathbb C}^{M\\times M}$\n",
    "\n",
    "$$\n",
    "D_M(\\Delta {\\varphi_1})_{m^{\\prime}}=\\begin{cases}\n",
    "\\begin{aligned}\n",
    "f_M({2\\pi}(\\frac{m^{\\prime}-m} {M}+\\Delta\\varphi))\\ &, \\frac{m^{\\prime}-1}{M} < 0.5 \\\\\n",
    "f_M({2\\pi}(\\frac{m^{\\prime}-m+M} {M}+\\Delta\\varphi)) &, \\frac{m^{\\prime}-1}{M} \\geq 0.5\n",
    "\\end{aligned}\n",
    "\n",
    "\\end{cases}\n",
    "$$"
   ]
  },
  {
   "cell_type": "code",
   "execution_count": null,
   "metadata": {},
   "outputs": [],
   "source": [
    "## generate D_M\n"
   ]
  }
 ],
 "metadata": {
  "interpreter": {
   "hash": "b0fa6594d8f4cbf19f97940f81e996739fb7646882a419484c72d19e05852a7e"
  },
  "kernelspec": {
   "display_name": "Python 3.9.6 64-bit",
   "language": "python",
   "name": "python3"
  },
  "language_info": {
   "codemirror_mode": {
    "name": "ipython",
    "version": 3
   },
   "file_extension": ".py",
   "mimetype": "text/x-python",
   "name": "python",
   "nbconvert_exporter": "python",
   "pygments_lexer": "ipython3",
   "version": "3.9.6"
  },
  "orig_nbformat": 4
 },
 "nbformat": 4,
 "nbformat_minor": 2
}
