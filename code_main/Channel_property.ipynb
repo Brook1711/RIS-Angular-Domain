{
 "cells": [
  {
   "cell_type": "markdown",
   "metadata": {},
   "source": [
    "# This file aims to illustrate the comparison of the measured channel property and the simulated channel property extracted from the three layer hierarchical Markov model. $M=N=128$\n",
    "\n",
    "![](Channel_property.assets\\Snipaste_2021-12-06_09-49-15.png)\n",
    "\n",
    "M. K. Samimi and T. S. Rappaport, \"3-D Millimeter-Wave Statistical Channel Model for 5G Wireless System Design,\" in IEEE Transactions on Microwave Theory and Techniques, vol. 64, no. 7, pp. 2207-2225, July 2016, doi: 10.1109/TMTT.2016.2574851."
   ]
  },
  {
   "cell_type": "markdown",
   "metadata": {},
   "source": [
    "## What is `lobes`\n",
    "Lobes is '`spatial lobes (SLs)`' corresponse to '`Time Clusters (TCs)`'\n",
    "|  SLs   | TCs  |\n",
    "|  ----  | ----  |\n",
    "| ![SLs](Channel_property.assets\\SpatialLobes.png)  | ![TCs](Channel_property.assets\\TimeClusters.png) |\n",
    "\n",
    "\n"
   ]
  },
  {
   "cell_type": "markdown",
   "metadata": {},
   "source": [
    "\n",
    "## what is $\\mu_M,\\ \\mu_S, \\sigma_M, \\sigma_S$"
   ]
  },
  {
   "cell_type": "code",
   "execution_count": 1,
   "metadata": {},
   "outputs": [],
   "source": [
    "import numpy as np\n",
    "import matplotlib.pyplot as plt\n",
    "from scipy.stats import poisson"
   ]
  },
  {
   "cell_type": "code",
   "execution_count": 37,
   "metadata": {},
   "outputs": [
    {
     "name": "stdout",
     "output_type": "stream",
     "text": [
      "0.16493699385564012\n"
     ]
    },
    {
     "data": {
      "image/png": "[encoded data removed]",
      "text/plain": [
       "<Figure size 1152x288 with 2 Axes>"
      ]
     },
     "metadata": {
      "needs_background": "light"
     },
     "output_type": "display_data"
    }
   ],
   "source": [
    "np.random.seed(0)\n",
    "# measured = np.random.poisson(1.8, size=64)\n",
    "x = np.array([0, 1,2,3,4,5])\n",
    "measured_sampl = poisson.rvs(1.6, size = 1000)\n",
    "for i, m in enumerate(measured_sampl):\n",
    "    if m == 0:\n",
    "        measured_sampl[i] = 1\n",
    "    if m > 5:\n",
    "        measured_sampl[i] = 5\n",
    "\n",
    "\n",
    "# print(measured_sampl)\n",
    "measured = poisson.pmf(x, 1.8)\n",
    "\n",
    "plt.figure(figsize=(16,4))\n",
    "plt.subplot(1,2,1)\n",
    "plt.bar(x, measured , width=0.2)\n",
    "plt.subplot(1,2,2)\n",
    "data_measured, bins, patches = plt.hist(measured_sampl, rwidth=0.2, density= True, bins = np.array([0, 1,2,3,4,5,6])-0.5)\n",
    "plt.title(str(measured_sampl.mean()))\n",
    "print(measured.mean())\n"
   ]
  },
  {
   "cell_type": "code",
   "execution_count": 42,
   "metadata": {},
   "outputs": [
    {
     "data": {
      "text/plain": [
       "<matplotlib.legend.Legend at 0x7fca3967f0d0>"
      ]
     },
     "execution_count": 42,
     "metadata": {},
     "output_type": "execute_result"
    },
    {
     "data": {
      "image/png": "[encoded data removed]",
      "text/plain": [
       "<Figure size 432x288 with 1 Axes>"
      ]
     },
     "metadata": {
      "needs_background": "light"
     },
     "output_type": "display_data"
    }
   ],
   "source": [
    "import numpy as np\n",
    "import cmath\n",
    "import matplotlib.pyplot as plt\n",
    "from scipy.stats import gamma\n",
    "from scipy.special import gamma as gamma_function\n",
    "from scipy.special import digamma\n",
    "alpha_0, alpha_1 = 1, 1\n",
    "beta_0, beta_1 = 0.001, 1\n",
    "K=4\n",
    "p01 = 0.5\n",
    "p10 = 0.5\n",
    "trans_pro_C = {\n",
    "    'p01':p01,\n",
    "    'p10':p10,\n",
    "    'p1':p01/(p01+p10)\n",
    "    }\n",
    "M = 64\n",
    "tau = 8\n",
    "L = 4\n",
    "\n",
    "## generate channel support\n",
    "def count_lobes_return_array(p01 = 0.5, p10 = 0.5, M = 64):\n",
    "    count_list = np.array([0 for i in range(6)])\n",
    "    # 6 is a nice value\n",
    "    def count_lobes(seed = 2, p01 = 0.5, p10 = 0.5, M = 64):\n",
    "        np.random.seed(seed)   \n",
    "        def common_channel_support(p01 = 0.1, p10=0.3, M= 64):\n",
    "            p0 = p10/(p10+p01)\n",
    "            p1 = 1-p0\n",
    "\n",
    "            # generate Markov chain\n",
    "            tmp_support = np.array([0.0 for m in range(M)])\n",
    "            if np.random.uniform(0,1,1)[0] < p0:\n",
    "                tmp_support[0] = 0\n",
    "            for i in range(M - 1):\n",
    "                if tmp_support[i] == 0:\n",
    "                    if np.random.uniform(0,1,2)[0] < p01:\n",
    "                        tmp_support[i+1] = 1\n",
    "                    else:\n",
    "                        tmp_support[i+1] = 0\n",
    "                else:\n",
    "                    if np.random.uniform(0,1,2)[1] < p10:\n",
    "                        tmp_support[i+1] = 0\n",
    "                    else:\n",
    "                        tmp_support[i+1] = 1\n",
    "            return tmp_support\n",
    "\n",
    "        common_support_varphi = common_channel_support(p01, p10, M)\n",
    "\n",
    "        marker_left = 0\n",
    "        marker_rigth = 1\n",
    "        state_store_deep_1 = ''\n",
    "        state = '' # 'up_edge' | 'up_idle' | 'down_idle' | 'down_edge'\n",
    "        while marker_rigth != M:\n",
    "            state_store_deep_1 = state\n",
    "            if common_support_varphi[marker_rigth] ==1 and common_support_varphi[marker_rigth -1] ==0:\n",
    "                state = 'up_edge'\n",
    "                marker_left = marker_rigth - 1\n",
    "            \n",
    "            elif common_support_varphi[marker_rigth] ==0 and common_support_varphi[marker_rigth -1] ==1:\n",
    "                state = 'down_edge'\n",
    "            elif common_support_varphi[marker_rigth] ==1 and common_support_varphi[marker_rigth -1] ==1:\n",
    "                state = state_store_deep_1\n",
    "            elif common_support_varphi[marker_rigth] ==0 and common_support_varphi[marker_rigth -1] ==0:\n",
    "                state = state_store_deep_1\n",
    "            if state_store_deep_1 == 'up_edge' and state == 'down_edge':\n",
    "                # print(marker_rigth, marker_rigth - marker_left -1 )\n",
    "                wdith = marker_rigth - marker_left -1\n",
    "                if wdith > 5:\n",
    "                    count_list[5] += 0\n",
    "                else:\n",
    "                    count_list[wdith] += 1\n",
    "\n",
    "            marker_rigth +=1\n",
    "\n",
    "    for seed in range(10):\n",
    "        count_lobes(\n",
    "            seed = seed,\n",
    "            p10 = p10,\n",
    "            p01 = p01,\n",
    "            M = 64\n",
    "            )\n",
    "    return np.array(count_list/count_list.sum())\n",
    "\n",
    "data_sim = count_lobes_return_array(\n",
    "    p01= 0.5,\n",
    "    p10 = 0.5, \n",
    "    M= 64\n",
    ")\n",
    "\n",
    "data_measured = np.array(data_measured)\n",
    "plt.bar(np.array(range(6))-0.1, data_measured, width= 0.2)\n",
    "plt.bar(np.array(range(6))+0.1, data_sim, width= 0.2)\n",
    "plt.legend(['TCSL model', 'proposed'])\n",
    "# plt.scatter(range(M), common_support_varphi)\n",
    "# plt.plot(range(M), common_support_varphi)\n",
    "# plt.legend(['common_support_varphi'])\n",
    "\n",
    "# data_sim = np.array(count_list/count_list.sum())"
   ]
  },
  {
   "cell_type": "code",
   "execution_count": null,
   "metadata": {},
   "outputs": [],
   "source": []
  }
 ],
 "metadata": {
  "interpreter": {
   "hash": "c7f98064a27d4c24c7633e2f6db1630e46ce0ead184062ac32da38e25d272955"
  },
  "kernelspec": {
   "display_name": "Python 3.9.7 64-bit ('base': conda)",
   "language": "python",
   "name": "python3"
  },
  "language_info": {
   "codemirror_mode": {
    "name": "ipython",
    "version": 3
   },
   "file_extension": ".py",
   "mimetype": "text/x-python",
   "name": "python",
   "nbconvert_exporter": "python",
   "pygments_lexer": "ipython3",
   "version": "3.9.7"
  },
  "orig_nbformat": 4
 },
 "nbformat": 4,
 "nbformat_minor": 2
}
