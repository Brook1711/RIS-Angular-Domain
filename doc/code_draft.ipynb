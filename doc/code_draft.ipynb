{
 "cells": [
  {
   "cell_type": "markdown",
   "source": [
    "# 构建模型\n",
    "参考文献：\n",
    "\n",
    "[2-3]Channel Estimation for IRS-Assisted Millimeter-Wave MIMO Systems：Sparsity-Inspired Approaches\n",
    "\n",
    "[2-2]Channel Estimation for RIS-Aided Multiuser Millimeter-Wave Massive MIMO Systems\n",
    "\n"
   ],
   "metadata": {}
  },
  {
   "cell_type": "code",
   "execution_count": 2,
   "source": [
    "import numpy as np\n",
    "import math, cmath\n",
    "import matplotlib as mpl\n",
    "import matplotlib.pyplot as plt"
   ],
   "outputs": [],
   "metadata": {}
  },
  {
   "cell_type": "markdown",
   "source": [
    "## system parameters\n",
    "BS has a $N$ antannes ULA\n",
    "\n",
    "RIS has a $M$ antannes ULA\n",
    "\n",
    "$K$ single antanna users\n",
    "\n"
   ],
   "metadata": {}
  },
  {
   "cell_type": "code",
   "execution_count": null,
   "source": [
    "class system_parameters():\n",
    "    def __init__(self, N=100, M=100, K=4, L=5, J=4) -> None:\n",
    "        self.N = N\n",
    "        self.M = M\n",
    "        self.K = K\n",
    "        self.fc = 28e9  # frequence\n",
    "        self.lambda_ = 3e8/self.fc\n",
    "        self.sigma_BR = 2.2 # shadow factor for RIS-BS link \n",
    "        self.sigma_RU = 2.8 # shadow factor for RIS-User link\n",
    "\n",
    "        "
   ],
   "outputs": [],
   "metadata": {}
  },
  {
   "cell_type": "markdown",
   "source": [
    "$$\n",
    "\\mathbf{a}_{X}(x)=\\left[1, e^{-\\mathrm{i} 2 \\pi x}, \\ldots, e^{-\\mathrm{i} 2 \\pi(X-1) x}\\right]^{\\mathrm{T}}\n",
    "$$\n",
    "where $X \\in\\{M, N\\}$ and $x \\in\\left\\{\\omega_{l}, \\psi_{l}, \\varphi_{k, j}\\right\\} . \\omega_{l}=\\frac{d_{\\mathrm{RIS}}}{\\lambda_{c}} \\cos \\left(\\theta_{l}\\right), \\psi_{l}=\\frac{d_{\\mathrm{BS}}}{\\lambda_{c}} \\cos \\left(\\phi_{l}\\right)$, and $\\varphi_{k, j}=$ $\\frac{d_{\\text {RIS }}}{\\lambda_{c}} \\cos \\left(\\vartheta_{k, j}\\right)$ are the directional cosine with $\\theta_{l}$ and $\\phi_{l}$ denoting the AoD and AoA of the $l$-th spatial path from RIS to BS, respectively, and $\\vartheta_{k, j}$ as the AoA of the $j$-th spatial path from user $k$ to RIS. $\\lambda_{c}$ is the carrier wavelength. "
   ],
   "metadata": {}
  },
  {
   "cell_type": "code",
   "execution_count": 8,
   "source": [
    "def ULA_array_response(X, theta, d, lambda_):\n",
    "    # Input:\n",
    "        # X: the dimension of the array, int\n",
    "        # theta: the AoA/AoD of the in/out signal, float(0~$\\pi$)\n",
    "\n",
    "    # Output:\n",
    "        # alpha: the array response\n",
    "    alpha = np.array(X*[0+1j])\n",
    "    for x in range(X):\n",
    "        phase = 2*math.pi*x*(d/lambda_)*math.cos(theta)\n",
    "        alpha[x] = cmath.exp(-1j * phase)\n",
    "    return alpha\n",
    "\n",
    "# when f_c = 28GHz, lamda= 3e8 / f_c = 3e8/ 28e9\n",
    "print(\"test ULA_array_response\")\n",
    "print(ULA_array_response(8, math.pi/2, 3e8/28e9 /2, 3e8/28e9))\n",
    "print(ULA_array_response(8, math.pi, 3e8/28e9 /2, 3e8/28e9))\n",
    "print(ULA_array_response(8, 0, 3e8/28e9 /2, 3e8/28e9))"
   ],
   "outputs": [
    {
     "output_type": "stream",
     "name": "stdout",
     "text": [
      "test ULA_array_response\n",
      "[1.-0.00000000e+00j 1.-1.92367069e-16j 1.-3.84734139e-16j\n",
      " 1.-5.77101208e-16j 1.-7.69468277e-16j 1.-9.61835347e-16j\n",
      " 1.-1.15420242e-15j 1.-1.34656949e-15j]\n",
      "[ 1.+0.00000000e+00j -1.+1.22464680e-16j  1.-2.44929360e-16j\n",
      " -1.+3.67394040e-16j  1.-4.89858720e-16j -1.+6.12323400e-16j\n",
      "  1.-7.34788079e-16j -1.+8.57252759e-16j]\n",
      "[ 1.-0.00000000e+00j -1.-1.22464680e-16j  1.+2.44929360e-16j\n",
      " -1.-3.67394040e-16j  1.+4.89858720e-16j -1.-6.12323400e-16j\n",
      "  1.+7.34788079e-16j -1.-8.57252759e-16j]\n"
     ]
    }
   ],
   "metadata": {}
  },
  {
   "cell_type": "markdown",
   "source": [
    "# channel generation\n",
    "## generate $\\alpha_{l}$\n",
    "$$\n",
    "\\alpha_{l} \\sim \\mathcal{C} \\mathcal{N}\\left(0,10^{-3} d_{\\mathrm{BR}}^{-2.2}\\right)\n",
    "$$\n",
    "## generate $\\beta_{k,j} $\n",
    "$$\n",
    "\\beta_{k, j} \\sim \\mathcal{C N}\\left(0,10^{-3} d_{\\mathrm{RU}}^{-2.8}\\right)\n",
    "$$\n",
    "\n",
    "## generate AoA $\\phi_{l}$, AoD $w_l$, AoA $\\vartheta_{k, j}$\n",
    "$$\n",
    "\\omega_{l}, \\psi_{l}, \\varphi_{k, j}\n",
    "$$\n",
    "$$\n",
    "\\left\\{\\phi_{l}, \\theta_{l}, \\vartheta_{k, j}\\right\\} \\text { are continuous and uniformly distributed over }[0, \\pi)\n",
    "$$\n",
    "\n",
    "## the channels:\n",
    "\n",
    "- $k$-th user to the RIS ${\\bf h}_k \\in \\mathbb{C}^{M \\times 1}$\n",
    "$$\n",
    "\\mathbf{h}_{k}=\\mathbf{A}_{M, k} \\boldsymbol{\\beta}_{k}\n",
    "$$\n",
    "- RIS to the BS:    ${\\bf H} \\in \\mathbb{C}^{N \\times M}$\n",
    "$$\n",
    "\\mathbf{H}=\\mathbf{A}_{N} \\Lambda \\mathbf{A}_{M}^{\\mathrm{H}}\n",
    "$$\n",
    "- cascaded channel $\\mathbf{G}_{k}=\\operatorname{HDiag}\\left(\\mathbf{h}_{k}\\right) \\in \\mathbb{C}^{N \\times M}$\n",
    "- angle-domain expression: $\\mathbf{G}_{k}=\\mathbf{A}_{N} \\boldsymbol{\\Lambda} \\mathbf{A}_{M}^{\\mathrm{H}} \\operatorname{Diag}\\left(\\mathbf{A}_{M, k} \\boldsymbol{\\beta}_{k}\\right)$\n",
    "$$\n",
    "\\begin{aligned}\n",
    "\\mathbf{A}_{N} &=\\left[\\mathbf{a}_{N}\\left(\\psi_{1}\\right), \\ldots, \\mathbf{a}_{N}\\left(\\psi_{L}\\right)\\right] \\in \\mathbb{C}^{N \\times L} \\\\\n",
    "\\boldsymbol{\\Lambda} &=\\operatorname{Diag}\\left(\\alpha_{1}, \\alpha_{2}, \\ldots, \\alpha_{L}\\right) \\in \\mathbb{C}^{L \\times L} \\\\\n",
    "\\mathbf{A}_{M} &=\\left[\\mathbf{a}_{M}\\left(\\omega_{1}\\right), \\ldots, \\mathbf{a}_{M}\\left(\\omega_{L}\\right)\\right] \\in \\mathbb{C}^{M \\times L}\n",
    "\\end{aligned}\n",
    "$$\n",
    "$$\n",
    "\\begin{aligned}\n",
    "\\mathbf{A}_{M, k} &=\\left[\\mathbf{a}_{M}\\left(\\varphi_{k, 1}\\right), \\ldots, \\mathbf{a}_{M}\\left(\\varphi_{k, J_{k}}\\right)\\right] \\in \\mathbb{C}^{M \\times J_{k}} \\\\\n",
    "\\boldsymbol{\\beta}_{k} &=\\left[\\beta_{k, 1}, \\ldots, \\beta_{k, J_{k}}\\right]^{\\mathrm{T}} \\in \\mathbb{C}^{J_{k} \\times 1}\n",
    "\\end{aligned}\n",
    "$$"
   ],
   "metadata": {}
  },
  {
   "cell_type": "code",
   "execution_count": null,
   "source": [
    "def userk_to_RIS_channel_generation(A_MK, beta_k):\n",
    "    # input \n",
    "        # A_Mk, array, complex, M times J_k\n",
    "        # beta_k, array, complex, J_k times 1\n",
    "    # output\n",
    "        # h_k, array, complex, M tims 1\n",
    "    h_k = np.dot(A_MK, beta_k)\n",
    "    return h_k\n",
    "\n",
    "def RIS_to_BS_channel_generation(A_N, Lambda, A_M):\n",
    "    # input\n",
    "        # A_N, array, complex, N times L\n",
    "        # Lambda, array, complex, L times L\n",
    "        # A_M, array, complex, M times L\n",
    "    # output\n",
    "        # H, array, complex, N times M\n",
    "    H = np.dot(np.dot(A_N, Lambda), A_M)\n",
    "    return H\n",
    "\n",
    "def cascaded_channel_generation(H, h_k):\n",
    "    # input：\n",
    "        # H, array, complex, N times M\n",
    "        # h_k, array, complex, M tims 1\n",
    "    # output:\n",
    "        # G_k, array, complex, N times M\n",
    "    G_k = np.dot(H, np.diagflat(h_k))\n",
    "    return G_k\n",
    "\n",
    "def A_MK_generation(J_k, varphi):\n",
    "    # input:\n",
    "        # J_k, int\n",
    "    # output:\n",
    "        # A_Mk, array, complex, M times J_k\n",
    "\n",
    "    # varphi, array, float(in arc), J_k times 1\n",
    "\n",
    "    return 0\n",
    "\n",
    "def beta_k_generation(J_k, d_RU, sigma_RU):\n",
    "    # input:\n",
    "        # J_k, int\n",
    "    # output:\n",
    "        # A_Mk, array, complex, M times J_k\n",
    "\n",
    "    return 0\n",
    "\n",
    "def A_N_generation():\n",
    "    return 0\n",
    "\n",
    "def Lambda_generation():\n",
    "    return 0\n",
    "\n",
    "def A_M_generation():\n",
    "    return 0\n",
    "\n",
    "def channel_generation(omega, psi, varphi):\n",
    "    # input:\n",
    "        # omega, array, float(in arc), L times 1\n",
    "        # psi, array, float(in arc), L times 1\n",
    "        # varphi, array, float(in arc), J_k times 1\n",
    "    # output:\n",
    "        # G_k, array, complex, N times M\n",
    "\n",
    "    return 0"
   ],
   "outputs": [],
   "metadata": {}
  }
 ],
 "metadata": {
  "orig_nbformat": 4,
  "language_info": {
   "name": "python",
   "version": "3.8.8",
   "mimetype": "text/x-python",
   "codemirror_mode": {
    "name": "ipython",
    "version": 3
   },
   "pygments_lexer": "ipython3",
   "nbconvert_exporter": "python",
   "file_extension": ".py"
  },
  "kernelspec": {
   "name": "python3",
   "display_name": "Python 3.8.8 64-bit ('base': conda)"
  },
  "interpreter": {
   "hash": "e134e05457d34029b6460cd73bbf1ed73f339b5b6d98c95be70b69eba114fe95"
  }
 },
 "nbformat": 4,
 "nbformat_minor": 2
}