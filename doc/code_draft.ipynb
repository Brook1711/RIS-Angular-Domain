{
 "cells": [
  {
   "cell_type": "markdown",
   "source": [
    "# 构建模型\n",
    "参考文献：\n",
    "\n",
    "[2-3]Channel Estimation for IRS-Assisted Millimeter-Wave MIMO Systems：Sparsity-Inspired Approaches\n",
    "\n",
    "[2-2]Channel Estimation for RIS-Aided Multiuser Millimeter-Wave Massive MIMO Systems\n",
    "\n"
   ],
   "metadata": {}
  },
  {
   "cell_type": "code",
   "execution_count": 8,
   "source": [
    "import numpy as np\n",
    "import math, cmath\n",
    "import matplotlib as mpl\n",
    "import matplotlib.pyplot as plt\n",
    "np.random.seed(1234)"
   ],
   "outputs": [],
   "metadata": {}
  },
  {
   "cell_type": "markdown",
   "source": [
    "## system parameters\n",
    "BS has a $N$ antannes ULA\n",
    "\n",
    "RIS has a $M$ antannes ULA\n",
    "\n",
    "$K$ single antanna users\n",
    "\n"
   ],
   "metadata": {}
  },
  {
   "cell_type": "code",
   "execution_count": 9,
   "source": [
    "class system_parameters():\n",
    "    def __init__(self, N=64, M=64, K=4, L=5, J=4) -> None:\n",
    "        self.N = N\n",
    "        self.M = M\n",
    "        self.K = K\n",
    "        self.fc = 28e9  # frequence\n",
    "        self.lambda_c = 3e8/self.fc\n",
    "        self.sigma_BR = 2.2 # shadow factor for RIS-BS link \n",
    "        self.sigma_RU = 2.8 # shadow factor for RIS-User link\n",
    "\n",
    "        "
   ],
   "outputs": [],
   "metadata": {}
  },
  {
   "cell_type": "markdown",
   "source": [
    "$$\n",
    "\\mathbf{a}_{X}(x)=\\left[1, e^{-\\mathrm{i} 2 \\pi x}, \\ldots, e^{-\\mathrm{i} 2 \\pi(X-1) x}\\right]^{\\mathrm{T}}\n",
    "$$\n",
    "where $X \\in\\{M, N\\}$ and $x \\in\\left\\{\\omega_{l}, \\psi_{l}, \\varphi_{k, j}\\right\\} . \\omega_{l}=\\frac{d_{\\mathrm{RIS}}}{\\lambda_{c}} \\cos \\left(\\theta_{l}\\right), \\psi_{l}=\\frac{d_{\\mathrm{BS}}}{\\lambda_{c}} \\cos \\left(\\phi_{l}\\right)$, and $\\varphi_{k, j}=$ $\\frac{d_{\\text {RIS }}}{\\lambda_{c}} \\cos \\left(\\vartheta_{k, j}\\right)$ are the directional cosine with $\\theta_{l}$ and $\\phi_{l}$ denoting the AoD and AoA of the $l$-th spatial path from RIS to BS, respectively, and $\\vartheta_{k, j}$ as the AoA of the $j$-th spatial path from user $k$ to RIS. $\\lambda_{c}$ is the carrier wavelength. "
   ],
   "metadata": {}
  },
  {
   "cell_type": "code",
   "execution_count": 10,
   "source": [
    "def ULA_array_response(X, theta, d, lambda_c):\n",
    "    # Input:\n",
    "        # X: the dimension of the array, int\n",
    "        # theta: the AoA/AoD of the in/out signal, float(0~$\\pi$)\n",
    "        # d: array interval\n",
    "        # lambda_c: carrier wave length\n",
    "\n",
    "    # Output:\n",
    "        # alpha: the array response\n",
    "    alpha = np.array(X*[0+1j])\n",
    "    for x in range(X):\n",
    "        phase = 2*math.pi*x*(d/lambda_c)*math.cos(theta)\n",
    "        alpha[x] = cmath.exp(-1j * phase)\n",
    "    return np.mat(alpha).T\n",
    "\n",
    "# when f_c = 28GHz, lamda= 3e8 / f_c = 3e8/ 28e9\n",
    "print(\"test ULA_array_response\")\n",
    "# print(ULA_array_response(8, math.pi/2, 3e8/28e9 /2, 3e8/28e9))\n",
    "# print(ULA_array_response(8, math.pi, 3e8/28e9 /2, 3e8/28e9))\n",
    "# print(ULA_array_response(8, 0, 3e8/28e9 /2, 3e8/28e9))\n",
    "x = np.linspace (-np.pi/2 , np.pi/2 , 1000)\n",
    "y = np.array([np.abs((ULA_array_response(64, theta, 3e8/28e9 /2, 3e8/28e9).H * ULA_array_response(64, 0, 3e8/28e9 /2, 3e8/28e9))[0,0]) for theta in x])/64\n",
    "plt.subplot(1,2,1)\n",
    "plt.plot(x/np.pi,y)\n",
    "plt.subplot(1,2,2)\n",
    "\n",
    "plt.plot(x/np.pi,10*np.log10((np.array(y))))"
   ],
   "outputs": [
    {
     "output_type": "stream",
     "name": "stdout",
     "text": [
      "test ULA_array_response\n"
     ]
    },
    {
     "output_type": "execute_result",
     "data": {
      "text/plain": [
       "[<matplotlib.lines.Line2D at 0x7faaf12b4a90>]"
      ]
     },
     "metadata": {},
     "execution_count": 10
    },
    {
     "output_type": "display_data",
     "data": {
      "image/png": "[encoded data removed]",
      "text/plain": [
       "<Figure size 432x288 with 2 Axes>"
      ]
     },
     "metadata": {
      "needs_background": "light"
     }
    }
   ],
   "metadata": {}
  },
  {
   "cell_type": "markdown",
   "source": [
    "# channel generation\n",
    "## generate $\\alpha_{l}$\n",
    "$$\n",
    "\\alpha_{l} \\sim \\mathcal{C} \\mathcal{N}\\left(0,10^{-3} d_{\\mathrm{BR}}^{-2.2}\\right)\n",
    "$$\n",
    "## generate $\\beta_{k,j} $\n",
    "$$\n",
    "\\beta_{k, j} \\sim \\mathcal{C N}\\left(0,10^{-3} d_{\\mathrm{RU}}^{-2.8}\\right)\n",
    "$$\n",
    "\n",
    "## generate AoA $\\phi_{l}$, AoD $w_l$, AoA $\\vartheta_{k, j}$\n",
    "$$\n",
    "\\omega_{l}, \\psi_{l}, \\varphi_{k, j}\n",
    "$$\n",
    "$$\n",
    "\\left\\{\\phi_{l}, \\theta_{l}, \\vartheta_{k, j}\\right\\} \\text { are continuous and uniformly distributed over }[0, \\pi)\n",
    "$$\n",
    "\n",
    "## the channels:\n",
    "\n",
    "- $k$-th user to the RIS ${\\bf h}_k \\in \\mathbb{C}^{M \\times 1}$\n",
    "$$\n",
    "\\mathbf{h}_{k}=\\mathbf{A}_{M, k} \\boldsymbol{\\beta}_{k}\n",
    "$$\n",
    "- RIS to the BS:    ${\\bf H} \\in \\mathbb{C}^{N \\times M}$\n",
    "$$\n",
    "\\mathbf{H}=\\mathbf{A}_{N} \\Lambda \\mathbf{A}_{M}^{\\mathrm{H}}\n",
    "$$\n",
    "- cascaded channel $\\mathbf{G}_{k}=\\operatorname{HDiag}\\left(\\mathbf{h}_{k}\\right) \\in \\mathbb{C}^{N \\times M}$\n",
    "- angle-domain expression: $\\mathbf{G}_{k}=\\mathbf{A}_{N} \\boldsymbol{\\Lambda} \\mathbf{A}_{M}^{\\mathrm{H}} \\operatorname{Diag}\\left(\\mathbf{A}_{M, k} \\boldsymbol{\\beta}_{k}\\right)$\n",
    "$$\n",
    "\\begin{aligned}\n",
    "\\mathbf{A}_{N} &=\\left[\\mathbf{a}_{N}\\left(\\psi_{1}\\right), \\ldots, \\mathbf{a}_{N}\\left(\\psi_{L}\\right)\\right] \\in \\mathbb{C}^{N \\times L} \\\\\n",
    "\\boldsymbol{\\Lambda} &=\\operatorname{Diag}\\left(\\alpha_{1}, \\alpha_{2}, \\ldots, \\alpha_{L}\\right) \\in \\mathbb{C}^{L \\times L} \\\\\n",
    "\\mathbf{A}_{M} &=\\left[\\mathbf{a}_{M}\\left(\\omega_{1}\\right), \\ldots, \\mathbf{a}_{M}\\left(\\omega_{L}\\right)\\right] \\in \\mathbb{C}^{M \\times L}\n",
    "\\end{aligned}\n",
    "$$\n",
    "$$\n",
    "\\begin{aligned}\n",
    "\\mathbf{A}_{M, k} &=\\left[\\mathbf{a}_{M}\\left(\\varphi_{k, 1}\\right), \\ldots, \\mathbf{a}_{M}\\left(\\varphi_{k, J_{k}}\\right)\\right] \\in \\mathbb{C}^{M \\times J_{k}} \\\\\n",
    "\\boldsymbol{\\beta}_{k} &=\\left[\\beta_{k, 1}, \\ldots, \\beta_{k, J_{k}}\\right]^{\\mathrm{T}} \\in \\mathbb{C}^{J_{k} \\times 1}\n",
    "\\end{aligned}\n",
    "$$"
   ],
   "metadata": {}
  },
  {
   "cell_type": "code",
   "execution_count": 11,
   "source": [
    "def userk_to_RIS_channel_generation(A_MK, beta_k):\n",
    "    # input \n",
    "        # A_Mk, array, complex, M times J_k\n",
    "        # beta_k, array, complex, J_k times 1\n",
    "    # output\n",
    "        # h_k, array, complex, M tims 1\n",
    "    h_k = np.dot(A_MK, beta_k)\n",
    "    return h_k\n",
    "\n",
    "def RIS_to_BS_channel_generation(A_N, Lambda, A_M):\n",
    "    # input\n",
    "        # A_N, array, complex, N times L\n",
    "        # Lambda, array, complex, L times L\n",
    "        # A_M, array, complex, M times L\n",
    "    # output\n",
    "        # H, array, complex, N times M\n",
    "    H = np.dot(np.dot(A_N, Lambda), A_M)\n",
    "    return H\n",
    "\n",
    "def cascaded_channel_generation(H, h_k):\n",
    "    # input：\n",
    "        # H, array, complex, N times M\n",
    "        # h_k, array, complex, M tims 1\n",
    "    # output:\n",
    "        # G_k, array, complex, N times M\n",
    "    G_k = np.dot(H, np.diagflat(h_k))\n",
    "    return G_k\n",
    "\n",
    "def A_MK_generation(J_k, M, d, lambda_c):\n",
    "    # input:\n",
    "        # J_k, int\n",
    "        # M, int, ant number of the BS\n",
    "        # d: array interval\n",
    "        # lambda_c: carrier wave length\n",
    "    # output:\n",
    "        # A_Mk, array, complex, M times J_k\n",
    "        # varphi, array, float(in arc), J_k times 1\n",
    "    varphi = np.random.rand(J_k,1) * np.pi\n",
    "    A_Mk = np.array([ULA_array_response(M, angle, d, lambda_c) for angle in varphi])\n",
    "\n",
    "    return A_Mk, varphi\n",
    "\n",
    "def beta_k_generation(J_k, d_RU, sigma_RU= 2.8):\n",
    "    # input:\n",
    "        # J_k, int\n",
    "        # d_RU, distance between RIS and BS\n",
    "        # sigma_RU, mmWave channel path loss fluctuation\n",
    "    # output:\n",
    "        # beta_k, array, complex, J_k times 1 \n",
    "    \n",
    "    return 0\n",
    "\n",
    "def A_N_generation():\n",
    "    return 0\n",
    "\n",
    "def Lambda_generation():\n",
    "    return 0\n",
    "\n",
    "def A_M_generation():\n",
    "    return 0\n",
    "\n",
    "def channel_generation(omega, psi, varphi):\n",
    "    # input:\n",
    "        # omega, array, float(in arc), L times 1\n",
    "        # psi, array, float(in arc), L times 1\n",
    "        # varphi, array, float(in arc), J_k times 1\n",
    "    # output:\n",
    "        # G_k, array, complex, N times M\n",
    "\n",
    "    return 0"
   ],
   "outputs": [],
   "metadata": {}
  },
  {
   "cell_type": "code",
   "execution_count": 12,
   "source": [
    "A_MK_generation(4,8, 3e8/28e9/2, 3e8/28e9)\n"
   ],
   "outputs": [
    {
     "output_type": "execute_result",
     "data": {
      "text/plain": [
       "(array([[[ 1.        -0.j        ],\n",
       "         [-0.8516341 -0.52413677j],\n",
       "         [ 0.45056129+0.8927455j ],\n",
       "         [ 0.08420738-0.99644825j],\n",
       "         [-0.59398905+0.80447313j],\n",
       "         [ 0.92751528-0.37378525j],\n",
       "         [-0.98581823-0.1678166j ],\n",
       "         [ 0.75159758+0.65962192j]],\n",
       " \n",
       "        [[ 1.        +0.j        ],\n",
       "         [ 0.38478351+0.92300685j],\n",
       "         [-0.7038833 +0.71031564j],\n",
       "         [-0.92646889-0.37637136j],\n",
       "         [-0.00909661-0.99995863j],\n",
       "         [ 0.91946844-0.39316382j],\n",
       "         [ 0.7166892 +0.69739271j],\n",
       "         [-0.36792807+0.92985426j]],\n",
       " \n",
       "        [[ 1.        -0.j        ],\n",
       "         [ 0.81925274-0.5734326j ],\n",
       "         [ 0.3423501 -0.93957246j],\n",
       "         [-0.25831022-0.96606202j],\n",
       "         [-0.76559282-0.64332545j],\n",
       "         [-0.9961178 -0.08803026j],\n",
       "         [-0.86655166+0.4990874j ],\n",
       "         [-0.42373183+0.90578769j]],\n",
       " \n",
       "        [[ 1.        +0.j        ],\n",
       "         [-0.77277974+0.63467431j],\n",
       "         [ 0.19437705-0.98092689j],\n",
       "         [ 0.47235845+0.88140654j],\n",
       "         [-0.92443513-0.38133934j],\n",
       "         [ 0.95641102-0.29202391j],\n",
       "         [-0.55375498+0.83267966j],\n",
       "         [-0.10054976-0.99493203j]]]),\n",
       " array([[0.6016761 ],\n",
       "        [1.95441234],\n",
       "        [1.37516225],\n",
       "        [2.46727676]]))"
      ]
     },
     "metadata": {},
     "execution_count": 12
    }
   ],
   "metadata": {}
  }
 ],
 "metadata": {
  "orig_nbformat": 4,
  "language_info": {
   "name": "python",
   "version": "3.8.8",
   "mimetype": "text/x-python",
   "codemirror_mode": {
    "name": "ipython",
    "version": 3
   },
   "pygments_lexer": "ipython3",
   "nbconvert_exporter": "python",
   "file_extension": ".py"
  },
  "kernelspec": {
   "name": "python3",
   "display_name": "Python 3.8.8 64-bit ('base': conda)"
  },
  "interpreter": {
   "hash": "8f813b2878d7b258cd09e18d0c2ed8f3095dbd48beeca1ff9674685e92c9e6b1"
  }
 },
 "nbformat": 4,
 "nbformat_minor": 2
}