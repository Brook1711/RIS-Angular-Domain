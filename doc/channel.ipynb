{
 "cells": [
  {
   "cell_type": "markdown",
   "source": [
    "# 构建信道模型\n",
    "参考文献：\n",
    "\n",
    "[2-3]Channel Estimation for IRS-Assisted Millimeter-Wave MIMO Systems：Sparsity-Inspired Approaches\n",
    "\n",
    "[2-2]Channel Estimation for RIS-Aided Multiuser Millimeter-Wave Massive MIMO Systems\n",
    "\n"
   ],
   "metadata": {}
  },
  {
   "cell_type": "code",
   "execution_count": 1,
   "source": [
    "import numpy as np\n",
    "import math\n",
    "import matplotlib as mpl\n",
    "import matplotlib.pyplot as plt\n"
   ],
   "outputs": [],
   "metadata": {}
  },
  {
   "cell_type": "markdown",
   "source": [],
   "metadata": {}
  }
 ],
 "metadata": {
  "orig_nbformat": 4,
  "language_info": {
   "name": "python",
   "version": "3.8.8",
   "mimetype": "text/x-python",
   "codemirror_mode": {
    "name": "ipython",
    "version": 3
   },
   "pygments_lexer": "ipython3",
   "nbconvert_exporter": "python",
   "file_extension": ".py"
  },
  "kernelspec": {
   "name": "python3",
   "display_name": "Python 3.8.8 64-bit ('base': conda)"
  },
  "interpreter": {
   "hash": "8f813b2878d7b258cd09e18d0c2ed8f3095dbd48beeca1ff9674685e92c9e6b1"
  }
 },
 "nbformat": 4,
 "nbformat_minor": 2
}