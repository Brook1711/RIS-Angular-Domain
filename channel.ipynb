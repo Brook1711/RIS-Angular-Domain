{
 "cells": [
  {
   "cell_type": "markdown",
   "metadata": {},
   "source": [
    "# channel generation\n",
    "\n",
    "## the channels:\n",
    "![](channel.assets/channels.png)"
   ]
  },
  {
   "cell_type": "code",
   "execution_count": 1,
   "metadata": {},
   "outputs": [
    {
     "name": "stdout",
     "output_type": "stream",
     "text": [
      "path_loss 0.007943282347242814\n",
      "0.00790098441625847\n",
      "1.002124602018346\n"
     ]
    }
   ],
   "source": [
    "import numpy as np\n",
    "import math, cmath\n",
    "import matplotlib as mpl\n",
    "import matplotlib.pyplot as plt\n",
    "\n",
    "np.random.seed(1234)\n",
    "x\n",
    "\n",
    "def generate_A(distance, L=4, sigma_rb=-2.2):\n",
    "    path_loss = 10e-3*np.power(distance, sigma_rb)\n",
    "    A = np.diag(\n",
    "        [a[0] for a in np.random.randn(L,2).view(np.complex128)*np.power(2,-1/2)]\n",
    "        )*np.power(path_loss, 1/2)\n",
    "    return np.mat(A), path_loss\n",
    "\n",
    "def generate_B_k(distance, J_k=4, sigma_rk=-2.8):\n",
    "    path_loss = 10e-3*np.power(distance, sigma_rk)\n",
    "    B = np.diag(\n",
    "        [a[0] for a in np.random.randn(J_k,2).view(np.complex128)*np.power(2,-1/2)]\n",
    "        )*np.power(path_loss, 1/2)\n",
    "    return np.mat(B), path_loss\n",
    "\n",
    "L=10000\n",
    "a,pl = generate_A(distance=10, L=L, sigma_rb=-2.2)\n",
    "print('path_loss', np.power(pl, 1/2))\n",
    "print(np.array([a[i,i] for i in range(np.shape(a)[0])]).std())\n",
    "print((np.random.randn(L,2).view(np.complex128)*np.power(2,-1/2)).std())\n"
   ]
  },
  {
   "cell_type": "code",
   "execution_count": null,
   "metadata": {},
   "outputs": [],
   "source": []
  },
  {
   "cell_type": "code",
   "execution_count": 43,
   "metadata": {},
   "outputs": [
    {
     "name": "stdout",
     "output_type": "stream",
     "text": [
      "(10000, 1)\n",
      "99.47041642720176\n",
      "0.9946750059817494\n"
     ]
    }
   ],
   "source": [
    "import numpy as np\n",
    "np.random.seed(1234)\n",
    "a = np.random.randn(10000,2).view(np.complex128)*np.power(2,-1/2)\n",
    "print(np.shape(a))\n",
    "print(np.linalg.norm(a, ord=None, axis=None, keepdims=False))\n",
    "print(a.std())"
   ]
  }
 ],
 "metadata": {
  "interpreter": {
   "hash": "b0fa6594d8f4cbf19f97940f81e996739fb7646882a419484c72d19e05852a7e"
  },
  "kernelspec": {
   "display_name": "Python 3.9.6 64-bit",
   "name": "python3"
  },
  "language_info": {
   "codemirror_mode": {
    "name": "ipython",
    "version": 3
   },
   "file_extension": ".py",
   "mimetype": "text/x-python",
   "name": "python",
   "nbconvert_exporter": "python",
   "pygments_lexer": "ipython3",
   "version": "3.9.6"
  },
  "orig_nbformat": 4
 },
 "nbformat": 4,
 "nbformat_minor": 2
}
